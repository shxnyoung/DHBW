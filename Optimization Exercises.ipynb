{
 "cells": [
  {
   "cell_type": "code",
   "execution_count": null,
   "metadata": {},
   "outputs": [],
   "source": [
    "# Optimization Methods"
   ]
  },
  {
   "cell_type": "markdown",
   "metadata": {},
   "source": [
    "## Fundamentals of Python"
   ]
  },
  {
   "cell_type": "markdown",
   "metadata": {},
   "source": [
    "Define a list of the numbers 13, 20 and 30. Print it."
   ]
  },
  {
   "cell_type": "code",
   "execution_count": 1,
   "metadata": {},
   "outputs": [
    {
     "name": "stdout",
     "output_type": "stream",
     "text": [
      "[13, 20, 30]\n"
     ]
    }
   ],
   "source": [
    "l = [13, 20, 30]\n",
    "print(l)"
   ]
  },
  {
   "cell_type": "markdown",
   "metadata": {},
   "source": [
    "Define a numpy array of the numbers 13, 20 and 30. Print it."
   ]
  },
  {
   "cell_type": "code",
   "execution_count": 2,
   "metadata": {},
   "outputs": [
    {
     "name": "stdout",
     "output_type": "stream",
     "text": [
      "[13 20 30]\n"
     ]
    }
   ],
   "source": [
    "import numpy as np\n",
    "v = np.array([13, 20, 30])\n",
    "print(v)"
   ]
  },
  {
   "cell_type": "markdown",
   "metadata": {},
   "source": [
    "Could you have used your already built list for this purpose? Try it!"
   ]
  },
  {
   "cell_type": "code",
   "execution_count": 4,
   "metadata": {},
   "outputs": [
    {
     "name": "stdout",
     "output_type": "stream",
     "text": [
      "[13 20 30]\n"
     ]
    }
   ],
   "source": [
    "n = np.array(l)\n",
    "print(n)"
   ]
  },
  {
   "cell_type": "markdown",
   "metadata": {},
   "source": [
    "## Fundamentals of Matrices"
   ]
  },
  {
   "cell_type": "markdown",
   "metadata": {},
   "source": [
    "Generate a 3x3 matrix of the numbes 1 to 9. Print it."
   ]
  },
  {
   "cell_type": "code",
   "execution_count": 9,
   "metadata": {},
   "outputs": [
    {
     "name": "stdout",
     "output_type": "stream",
     "text": [
      "[[1 2 3]\n",
      " [3 4 5]\n",
      " [6 7 8]]\n"
     ]
    }
   ],
   "source": [
    "import numpy as np  # only necessary if not used before\n",
    "M = np.array([[1,2,3],[3,4,5],[6,7,8]])\n",
    "print(M)"
   ]
  },
  {
   "cell_type": "markdown",
   "metadata": {},
   "source": [
    "Pick the 5 out of the matrix and print it."
   ]
  },
  {
   "cell_type": "code",
   "execution_count": 10,
   "metadata": {},
   "outputs": [
    {
     "name": "stdout",
     "output_type": "stream",
     "text": [
      "5\n"
     ]
    }
   ],
   "source": [
    "print(M[1,2])"
   ]
  },
  {
   "cell_type": "markdown",
   "metadata": {},
   "source": [
    "Print the first column, then the last row."
   ]
  },
  {
   "cell_type": "code",
   "execution_count": 11,
   "metadata": {},
   "outputs": [
    {
     "name": "stdout",
     "output_type": "stream",
     "text": [
      "[1 3 6]\n",
      "[6 7 8]\n"
     ]
    }
   ],
   "source": [
    "print(M[:,0])\n",
    "print(M[2,:])"
   ]
  },
  {
   "cell_type": "markdown",
   "metadata": {},
   "source": [
    "Extract the part of the matrix with the numbers 1, 2, 3 and 4. Print it!"
   ]
  },
  {
   "cell_type": "code",
   "execution_count": 12,
   "metadata": {},
   "outputs": [
    {
     "name": "stdout",
     "output_type": "stream",
     "text": [
      "[[1 2]\n",
      " [3 4]]\n"
     ]
    }
   ],
   "source": [
    "print(M[0:2,0:2])"
   ]
  },
  {
   "cell_type": "markdown",
   "metadata": {},
   "source": [
    "Extract the part of the matrix with the numbers 4, 5, 7 and 8. Print it!"
   ]
  },
  {
   "cell_type": "code",
   "execution_count": 13,
   "metadata": {},
   "outputs": [
    {
     "name": "stdout",
     "output_type": "stream",
     "text": [
      "[[4 5]\n",
      " [7 8]]\n"
     ]
    }
   ],
   "source": [
    "print(M[1:4,1:4])"
   ]
  },
  {
   "cell_type": "markdown",
   "metadata": {},
   "source": [
    "Extract the part of the matrix with the numbers 2, and 3. Print it!"
   ]
  },
  {
   "cell_type": "code",
   "execution_count": 14,
   "metadata": {},
   "outputs": [
    {
     "name": "stdout",
     "output_type": "stream",
     "text": [
      "[2 3]\n"
     ]
    }
   ],
   "source": [
    "print(M[0,1:4])"
   ]
  },
  {
   "cell_type": "markdown",
   "metadata": {},
   "source": [
    "### Drawing Vectors: Matplotlib's Pyplot"
   ]
  },
  {
   "cell_type": "markdown",
   "metadata": {},
   "source": [
    "Create the following matrix:\n",
    "\n",
    "$ \\left[\n",
    "\\begin{array}{rrr}\n",
    "    2 & 4 & 6 & 8 \\\\\n",
    "    1 & 4 & 5 & 9 \\\\\n",
    "\\end{array}\n",
    "\\right]\n",
    "$\n",
    "\n",
    "Then extract the first row into a vector $\\mathbf{y}$ and the second row into the vector $\\mathbf{x}$.\n",
    "\n",
    "Draw a line using these two vectors just as in the example in the slides.\n",
    "\n",
    "**Don't copy-paste!** Type down the code. It is much better training."
   ]
  },
  {
   "cell_type": "code",
   "execution_count": 20,
   "metadata": {},
   "outputs": [
    {
     "data": {
      "image/png": "[encoded data removed]",
      "text/plain": [
       "<Figure size 432x288 with 1 Axes>"
      ]
     },
     "metadata": {},
     "output_type": "display_data"
    }
   ],
   "source": [
    "import numpy as np\n",
    "import matplotlib.pyplot as plt\n",
    "%matplotlib inline\n",
    "\n",
    "# matrix\n",
    "A = np.array([[2,4,6,8],[1,4,5,9]])\n",
    "y = A[0,:]\n",
    "x = A[1,:]\n",
    "\n",
    "# plot data\n",
    "plt.plot(x,y)\n",
    "\n",
    "# decoration\n",
    "plt.ylabel('y axis')\n",
    "plt.xlabel('x axis')\n",
    "plt.title('My first Pyplot drawing!')\n",
    "\n",
    "# make graph visible\n",
    "plt.show()"
   ]
  },
  {
   "cell_type": "markdown",
   "metadata": {},
   "source": [
    "Redraw the graph, but use the ax object instead!"
   ]
  },
  {
   "cell_type": "code",
   "execution_count": null,
   "metadata": {},
   "outputs": [],
   "source": [
    "import numpy as np\n",
    "import matplotlib.pyplot as plt\n",
    "%matplotlib inline\n",
    "\n",
    "# set up figure and axes\n",
    "fig = plt.figure()\n",
    "ax = fig.gca() # get a handle on the automatically defined axes\n",
    "\n",
    "# plot\n",
    "ax.plot(x,y)\n",
    "\n",
    "# decorate\n",
    "ax.set_ylabel('y axis')\n",
    "ax.set_ylabel('x axis')\n",
    "ax.set_title('Using the axes object...')\n",
    "\n",
    "# make visible\n",
    "plt.show()"
   ]
  },
  {
   "cell_type": "markdown",
   "metadata": {},
   "source": [
    "On the math slides, there was a simple graph that drew the column vectors of matrix\n",
    "\n",
    "$\\mathbf{A} =\n",
    "\\left[ \n",
    "\\begin{array}{rr}\n",
    "    4 & 2 \\\\\n",
    "    1 & 3 \\\\\n",
    "\\end{array}\n",
    "\\right]$\n",
    "\n",
    "Recreate this figure with Pyplot using the axes object!\n",
    "\n",
    "To do so, copy-and-paste the *vector* function from the slide first. Make sure to have correct indention and use the correct apostrophe sign (at my computer, simple copy and paste didn't work)"
   ]
  },
  {
   "cell_type": "code",
   "execution_count": 29,
   "metadata": {},
   "outputs": [
    {
     "name": "stdout",
     "output_type": "stream",
     "text": [
      "[[4 2]\n",
      " [1 3]]\n",
      "a_1 = [4 1]\n",
      "a_2 = [2 3]\n"
     ]
    },
    {
     "data": {
      "image/png": "[encoded data removed]",
      "text/plain": [
       "<Figure size 432x288 with 1 Axes>"
      ]
     },
     "metadata": {},
     "output_type": "display_data"
    }
   ],
   "source": [
    "import numpy as np\n",
    "import matplotlib.pyplot as plt\n",
    "%matplotlib inline\n",
    "\n",
    "# define our own function to easily draw nice vectors\n",
    "def vector(coords,color='black',start=[0,0]):\n",
    "    ax.arrow(*start,*coords,head_width=0.2, head_length=0.2,\n",
    "    length_includes_head=True, color=color)\n",
    "    return\n",
    "\n",
    "fig = plt.figure()\n",
    "ax = fig.gca()\n",
    "\n",
    "ax.set_xlim(0,4)\n",
    "ax.set_ylim(0,4)\n",
    "ax.set_xticks(range(5))\n",
    "ax.set_yticks(range(5))\n",
    "\n",
    "A = np.array([[4,2],[1,3]])\n",
    "print(A)\n",
    "\n",
    "a1 = A[:,0]\n",
    "a2 = A[:,1]\n",
    "print('a_1 =',a1)\n",
    "print('a_2 =',a2)\n",
    "\n",
    "vector(a1)\n",
    "vector(a2)\n",
    "\n",
    "plt.show()"
   ]
  },
  {
   "cell_type": "markdown",
   "metadata": {},
   "source": [
    "## Simple Calculations"
   ]
  },
  {
   "cell_type": "markdown",
   "metadata": {},
   "source": [
    "Generate the following matrices in Python using Numpy. Print them to check if you did everythin right:\n",
    "\n",
    "$\n",
    "\\mathbf{A} = \\left[\n",
    "\\begin{array}{rr}\n",
    "  5  & 10 \\\\\n",
    "  12 & 4 \\\\\n",
    "\\end{array}\n",
    "\\right]\n",
    "\\qquad\n",
    "\\mathbf{B} = \\left[\n",
    "\\begin{array}{rr}\n",
    "  25  & 20 \\\\\n",
    "  18 & 26 \\\\\n",
    "\\end{array}\n",
    "\\right]\n",
    "$\n",
    "\n",
    " Now carry out the given calculations if possible:\n",
    " \n",
    " $\\mathbf{A+B \\qquad A-B  \\qquad A^T  \\qquad 4A+B^T}$"
   ]
  },
  {
   "cell_type": "code",
   "execution_count": 31,
   "metadata": {},
   "outputs": [
    {
     "name": "stdout",
     "output_type": "stream",
     "text": [
      "[[ 5 10]\n",
      " [12  4]]\n",
      "[[25 20]\n",
      " [18 26]]\n"
     ]
    }
   ],
   "source": [
    "import numpy as np\n",
    "\n",
    "A = np.array([[5, 10], [12, 4]])\n",
    "B = np.array([[25, 20], [18, 26]])\n",
    "print(A)\n",
    "print(B)"
   ]
  },
  {
   "cell_type": "markdown",
   "metadata": {},
   "source": [
    "--------------------\n",
    "\n",
    "### Excursus 1: Markup Language\n",
    "\n",
    "How did I write these exercises in the Jupyter notbook? How did I writhe headlines, **bold** and *italics*?\n",
    "\n",
    "This is all done using a simple **markup language** that is then automatically transferred into HTML. You can learn it in 10 minutes! Let's start:\n",
    "\n",
    "**Headlines**\n",
    "\n",
    "start with # at the beginning of the row, the more, the smaller the headline. Examples\n",
    "# Big Headline: # Big Headline\n",
    "## Medium Headline: ## Medium Headline\n",
    "### Small Headline: ### Small Headline\n",
    "\n",
    "\n",
    "\n",
    "**Emphasizing**\n",
    "\n",
    "Use one star to show in *italics* like this: \\*italics\\*\n",
    "\n",
    "Two stars to show in **bold** like this: \\**bold\\**\n",
    "\n",
    "\n",
    "**Bullet Points**\n",
    "- Just write a minus sign in front of every line.\n",
    "- It's as simple as that.\n",
    "\n",
    "\n",
    "**Cell Format**\n",
    "\n",
    "A normal cell is interpreted as code. You need to change that at the drop-down-menu to *Markdown*.\n",
    "\n",
    "\n",
    "**Exercise**\n",
    "\n",
    "Now it is your turn! Format the following cell using the markup language. Don't forget to change the format into *Markdown*!"
   ]
  },
  {
   "cell_type": "code",
   "execution_count": null,
   "metadata": {},
   "outputs": [],
   "source": [
    "My first Headline\n",
    "\n",
    "This is my first text formatted using the simple markdown language.\n",
    "\n",
    "1. Bold\n",
    "\n",
    "I can write bold using two asterix.\n",
    "\n",
    "2. Italics\n",
    "\n",
    "I can write in italics using one asterix."
   ]
  },
  {
   "cell_type": "markdown",
   "metadata": {},
   "source": [
    "-------------------\n",
    "### Excursus 2: Formulas in Jupyter Notebooks using Latex\n",
    "\n",
    "How did I manage to get the matrices displayed so nicely?\n",
    "\n",
    "Jupyter notebooks use a language for typesetting formulas that ist called **Latex** and is around for over 50 years. We will only need a very small part of it, but it is really powerful.\n",
    "\n",
    "You write Latex code between Dollar signs: \\$ ... your code ... \\$\n",
    "\n",
    "**Superscripts**: $\\qquad$ \\$x^2\\$ $\\qquad$ gives $\\qquad$ $x^2$\n",
    "\n",
    "**Subscripts**: $\\qquad$ \\$x_2\\$ $\\qquad$ gives $\\qquad$ $x_2$\n",
    "\n",
    "**Distances**: To leave some space between formulas, use `\\qquad`:  \n",
    "$\\qquad \\qquad$ \\$x^3 \\qquad x_3\\$ $\\qquad$ gives $\\qquad x^3 \\qquad x_3$\n",
    "\n",
    "**Bold**: You cannot use \\** for bold fonts in Latex. Use `\\mathbf{}` instead:  \n",
    "$\\qquad$ \\$mathbf{A}\\$ $\\qquad$ gives $\\qquad$ $\\mathbf{A}$\n",
    "\n",
    "**Matrices**:  \n",
    "Matrices are a bit more involved, so lets tackle them step by step:\n",
    "\n",
    "*Array Structure*  \n",
    "A matrix has a table layout called an *array*, just as in Numpy. Look at the following example:\n",
    "```\n",
    "$\n",
    "\\begin{array}{rr}\n",
    "    1 & 10 \\\\\n",
    "    2 &  5 \\\\\n",
    "\\end{array}\n",
    "$\n",
    "```\n",
    "gives $\\qquad$\n",
    "$\n",
    "\\begin{array}{rr}\n",
    "    1 & 10 \\\\\n",
    "    2 &  5 \\\\\n",
    "\\end{array}\n",
    "$\n",
    "\n",
    "`{rr}` means that the the numbers are *right* aligned. You could have used `{cc}` to have them *centered*. Every letter stands for a column, so mixing is also possible `{cr}`.  \n",
    "`\\\\` stands for *end of row*.\n",
    "\n",
    "*Brackets*  \n",
    "Now let's put left and right brackets around our matrix:\n",
    "```\n",
    "$\n",
    "\\left[\n",
    "\\begin{array}{rr}\n",
    "    1 & 10 \\\\\n",
    "    2 &  5 \\\\\n",
    "\\end{array}\n",
    "\\right]\n",
    "$\n",
    "```\n",
    "gives $\\qquad$\n",
    "$\n",
    "\\left[\n",
    "\\begin{array}{rr}\n",
    "    1 & 10 \\\\\n",
    "    2 &  5 \\\\\n",
    "\\end{array}\n",
    "\\right]\n",
    "$"
   ]
  },
  {
   "cell_type": "markdown",
   "metadata": {},
   "source": [
    "**Exercise**\n",
    "\n",
    "Write down a 3x3 matrix with the numbers 100 to 900 and call it **C**. Use correct bold typing in Latex."
   ]
  },
  {
   "cell_type": "markdown",
   "metadata": {},
   "source": [
    "## Matrix Multiplication\n",
    "\n",
    "### Dot Product\n",
    "\n",
    "Set up the following matrices in Python and perform the given calculations. Before you start, write them up in Markup using Latex:\n",
    "\n",
    "**A** as 2x2 matrix with the numbers 1 to 4  \n",
    "**B** as a 2x2 matrix with the numbers 1, 0, 0, 2  \n",
    "**v** as a vector with the numbers 1 to 4\n",
    "\n",
    "*Calculations*:\n",
    "\n",
    "$\\mathbf{A \\cdot B \\qquad A \\cdot B^T \\qquad v \\cdot v^T}$\n"
   ]
  },
  {
   "cell_type": "markdown",
   "metadata": {},
   "source": [
    "\n",
    "### Special Matrices\n",
    "\n",
    "Set up\n",
    "- a 2x2 Null matrix\n",
    "- a 4x4 identity matrix\n",
    "- a vector of ones with 6 elements"
   ]
  },
  {
   "cell_type": "markdown",
   "metadata": {},
   "source": [
    "## Pandas for Economic Applications"
   ]
  },
  {
   "cell_type": "markdown",
   "metadata": {},
   "source": []
  },
  {
   "cell_type": "markdown",
   "metadata": {},
   "source": [
    "## Systems of Linear Equations"
   ]
  },
  {
   "cell_type": "markdown",
   "metadata": {},
   "source": [
    "## Optimum for Functions of Several Variables"
   ]
  },
  {
   "cell_type": "markdown",
   "metadata": {},
   "source": [
    "## Linear Optimization"
   ]
  },
  {
   "cell_type": "markdown",
   "metadata": {},
   "source": [
    "## Quadratic Optimization"
   ]
  },
  {
   "cell_type": "markdown",
   "metadata": {},
   "source": [
    "## Eigenvalues"
   ]
  }
 ],
 "metadata": {
  "kernelspec": {
   "display_name": "Python 3",
   "language": "python",
   "name": "python3"
  },
  "language_info": {
   "codemirror_mode": {
    "name": "ipython",
    "version": 3
   },
   "file_extension": ".py",
   "mimetype": "text/x-python",
   "name": "python",
   "nbconvert_exporter": "python",
   "pygments_lexer": "ipython3",
   "version": "3.7.3"
  }
 },
 "nbformat": 4,
 "nbformat_minor": 2
}
