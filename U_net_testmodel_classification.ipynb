{
  "nbformat": 4,
  "nbformat_minor": 0,
  "metadata": {
    "colab": {
      "name": "U-net_testmodel_classification.ipynb",
      "provenance": [],
      "collapsed_sections": [],
      "include_colab_link": true
    },
    "kernelspec": {
      "name": "python3",
      "display_name": "Python 3"
    },
    "accelerator": "GPU"
  },
  "cells": [
    {
      "cell_type": "markdown",
      "metadata": {
        "id": "view-in-github",
        "colab_type": "text"
      },
      "source": [
        "<a href=\"https://colab.research.google.com/github/shxnyoung/DHBW/blob/main/U_net_testmodel_classification.ipynb\" target=\"_parent\"><img src=\"https://colab.research.google.com/assets/colab-badge.svg\" alt=\"Open In Colab\"/></a>"
      ]
    },
    {
      "cell_type": "code",
      "metadata": {
        "id": "NeEnLvAoXA8Q",
        "colab": {
          "base_uri": "https://localhost:8080/"
        },
        "outputId": "f1caa446-233b-4eb2-d79e-b0fe410940a3"
      },
      "source": [
        "from google.colab import drive\n",
        "drive.mount('/content/drive')"
      ],
      "execution_count": null,
      "outputs": [
        {
          "output_type": "stream",
          "text": [
            "Mounted at /content/drive\n"
          ],
          "name": "stdout"
        }
      ]
    },
    {
      "cell_type": "code",
      "metadata": {
        "id": "QEMXpmt85cnO"
      },
      "source": [
        "import os\n",
        "import sys\n",
        "import random\n",
        "import warnings\n",
        "import numpy as np\n",
        "import pandas as pd\n",
        "import matplotlib.pyplot as plt\n",
        "from keras.models import Model, load_model\n",
        "from keras.layers import Input, BatchNormalization\n",
        "from keras.layers.core import Dropout, Lambda\n",
        "from keras.layers.convolutional import Conv2D, Conv2DTranspose\n",
        "from keras.layers.pooling import MaxPooling2D\n",
        "from keras.layers.merge import concatenate\n",
        "from keras.callbacks import EarlyStopping, ModelCheckpoint\n",
        "from keras import backend as K\n",
        "import tensorflow as tf\n",
        "import cv2\n",
        "from keras.layers import Input, Activation, Conv2D, Flatten, Dense, MaxPooling2D, Dropout, Add, LeakyReLU, UpSampling2D\n",
        "from keras.layers import Conv2D, MaxPooling2D, GlobalAveragePooling2D, Dropout, Activation, Average\n",
        "from keras.callbacks import ModelCheckpoint, TensorBoard\n",
        "from PIL import Image\n",
        "from keras.callbacks import ReduceLROnPlateau #adaptive LR\n",
        "from keras.losses import categorical_crossentropy\n",
        "from keras.optimizers import Adam"
      ],
      "execution_count": null,
      "outputs": []
    },
    {
      "cell_type": "code",
      "metadata": {
        "id": "8FSogY6oSVDR"
      },
      "source": [
        "def datacutter(data, l0, l1, l2):\n",
        "  train0 = data[:l0,]\n",
        "  train1 = data[l0:l0+l1,]\n",
        "  train2 = data[l1:l1+l2,]\n",
        "  return train0, train1, train2"
      ],
      "execution_count": null,
      "outputs": []
    },
    {
      "cell_type": "code",
      "metadata": {
        "id": "3R8pfYDZ5slo"
      },
      "source": [
        "x_train=np.load('/content/drive/My Drive/MLDL_models/ClassificationTEST/X.npy')/255."
      ],
      "execution_count": null,
      "outputs": []
    },
    {
      "cell_type": "code",
      "metadata": {
        "id": "uHIJrw7-SYL6"
      },
      "source": [
        "l0=730; l1=510; l2=850\n",
        "x_train0, x_train1, x_train2 = datacutter(x_train, l0, l1, l2)"
      ],
      "execution_count": null,
      "outputs": []
    },
    {
      "cell_type": "code",
      "metadata": {
        "colab": {
          "base_uri": "https://localhost:8080/"
        },
        "id": "nl4CrRJmcIi6",
        "outputId": "81003f07-6924-444c-dbce-c049cc126ad3"
      },
      "source": [
        "class_names= ['granulation', 'slough', 'necrosis']\n",
        "cy_train0 = np.full((len(x_train0)), 0); cy_train0=tf.keras.utils.to_categorical(cy_train0, num_classes=3)\n",
        "cy_train1 = np.full((len(x_train1)), 1); cy_train1=tf.keras.utils.to_categorical(cy_train1, num_classes=3)\n",
        "cy_train2 = np.full((len(x_train2)), 2); cy_train2=tf.keras.utils.to_categorical(cy_train2, num_classes=3)\n",
        "cy_train = np.concatenate((cy_train0, cy_train1, cy_train2))\n",
        "cy_train.shape"
      ],
      "execution_count": null,
      "outputs": [
        {
          "output_type": "execute_result",
          "data": {
            "text/plain": [
              "(2090, 3)"
            ]
          },
          "metadata": {
            "tags": []
          },
          "execution_count": 116
        }
      ]
    },
    {
      "cell_type": "code",
      "metadata": {
        "id": "7wyQbxQI61U2"
      },
      "source": [
        "sy_train=np.load('/content/drive/My Drive/MLDL_models/ClassificationTEST/Y.npy')\n",
        "sy_train0, sy_train1, sy_train2 = datacutter(sy_train, l0, l1, l2)"
      ],
      "execution_count": null,
      "outputs": []
    },
    {
      "cell_type": "code",
      "metadata": {
        "id": "XnEhUIN5b9YZ"
      },
      "source": [
        "from sklearn.model_selection import train_test_split\n",
        "x_train, x_val, cy_train, cy_val = train_test_split(x_train,cy_train, test_size=0.1, random_state=1004)\n",
        "sy_train, sy_val = train_test_split(sy_train, test_size=0.1, random_state=1004)"
      ],
      "execution_count": null,
      "outputs": []
    },
    {
      "cell_type": "code",
      "metadata": {
        "id": "c3J1Eqh1Er4u"
      },
      "source": [
        "def compile_and_train_multioutput(multi_output_model, num_epochs): \n",
        "    precision = tf.keras.metrics.Precision()\n",
        "    recall = tf.keras.metrics.Recall()\n",
        "    model.compile(loss={'co' : 'categorical_crossentropy', 'so' : 'binary_crossentropy'}, optimizer='adam', metrics=['acc']) \n",
        "    filepath = '/content/drive/MyDrive/MLDL_models/weights2/' + model.name + '.{epoch:02d}-{loss:.2f}.hdf5'\n",
        "    checkpoint = ModelCheckpoint(filepath, monitor='loss', verbose=0, save_weights_only=True, save_best_only=True, mode='auto', save_freq=10)\n",
        "    callback_param = ReduceLROnPlateau(monitor='val_loss', factor=0.5, patience=10, verbose=1, mode='auto', min_lr=1e-05)\n",
        "    history = model.fit(x_train\n",
        "                        , {'co' : cy_train, 'so' : sy_train}\n",
        "                        , validation_data=(x_val, {'co' : cy_val, 'so' : sy_val})\n",
        "                        , epochs=num_epochs, batch_size=100\n",
        "                        , callbacks=[callback_param, checkpoint]\n",
        "                        )\n",
        "    return history"
      ],
      "execution_count": null,
      "outputs": []
    },
    {
      "cell_type": "code",
      "metadata": {
        "id": "fTd-fnNh5K3B"
      },
      "source": [
        "def compile_and_train(model, num_epochs): \n",
        "    precision = tf.keras.metrics.Precision()\n",
        "    recall = tf.keras.metrics.Recall()\n",
        "    model.compile(loss={'categorical_crossentropy', optimizer='adam', metrics=['acc', precision, recall]) \n",
        "    filepath = '/content/drive/MyDrive/MLDL_models/weights1/' + model.name + '.{epoch:02d}-{loss:.2f}.hdf5'\n",
        "    checkpoint = ModelCheckpoint(filepath, monitor='loss', verbose=0, save_weights_only=True, save_best_only=True, mode='auto', save_freq=10)\n",
        "    callback_param = ReduceLROnPlateau(monitor='val_loss', factor=0.5, patience=10, verbose=1, mode='auto', min_lr=1e-05)\n",
        "    history = model.fit(x_train, y_train\n",
        "                        , validation_data=(x_val, y_val)\n",
        "                        , epochs=num_epochs, batch_size=100\n",
        "                        , callbacks=[callback_param, checkpoint]\n",
        "                        )\n",
        "    return history"
      ],
      "execution_count": null,
      "outputs": []
    },
    {
      "cell_type": "code",
      "metadata": {
        "id": "m3ukgl7aT01A",
        "colab": {
          "base_uri": "https://localhost:8080/"
        },
        "outputId": "e91a7dc0-903a-45c5-e09f-f2f4b4cb76e7"
      },
      "source": [
        "from tensorflow import keras\n",
        "labels=[0,1,2]\n",
        "one_hot_vectors=keras.utils.to_categorical(labels)\n",
        "\n",
        "x_test1=np.load('/content/drive/My Drive/MLDL_models/TESTdataset/x_test1.npy')/255.\n",
        "x_test0=np.load('/content/drive/My Drive/MLDL_models/TESTdataset/x_test0.npy')/255.\n",
        "x_test2=np.load('/content/drive/My Drive/MLDL_models/TESTdataset/x_test2.npy')/255.\n",
        "\n",
        "cy_test0 = np.full((len(x_test0)), 0); cy_test0 = tf.keras.utils.to_categorical(cy_test0, num_classes=3)\n",
        "cy_test1 = np.full((len(x_test1)), 1); cy_test1 = tf.keras.utils.to_categorical(cy_test1, num_classes=3)\n",
        "cy_test2 = np.full((len(x_test2)), 2); cy_test2 = tf.keras.utils.to_categorical(cy_test2, num_classes=3)\n",
        "\n",
        "x_test=np.concatenate((x_test0,x_test1,x_test2))\n",
        "cy_test=np.concatenate((cy_test0,cy_test1,cy_test2))\n",
        "cy_test_pred = cy_test\n",
        "\n",
        "print(x_test.shape, cy_test.shape, cy_test_pred.shape)"
      ],
      "execution_count": null,
      "outputs": [
        {
          "output_type": "stream",
          "text": [
            "(47, 128, 128, 3) (47, 3) (47, 3)\n"
          ],
          "name": "stdout"
        }
      ]
    },
    {
      "cell_type": "code",
      "metadata": {
        "id": "XMt6A9hJGCXQ"
      },
      "source": [
        "sy_test1=np.load('/content/drive/My Drive/MLDL_models/TESTdataset/y_test1.npy')\n",
        "sy_test0=np.load('/content/drive/My Drive/MLDL_models/TESTdataset/y_test0.npy')\n",
        "sy_test2=np.load('/content/drive/My Drive/MLDL_models/TESTdataset/y_test2.npy')\n",
        "\n",
        "sy_test=np.concatenate((sy_test0,sy_test1,sy_test2))"
      ],
      "execution_count": null,
      "outputs": []
    },
    {
      "cell_type": "code",
      "metadata": {
        "id": "cNZ7G52LEWX2"
      },
      "source": [
        "model_input = Input((128,128,3))"
      ],
      "execution_count": null,
      "outputs": []
    },
    {
      "cell_type": "code",
      "metadata": {
        "id": "lxVb8Mia59D9",
        "colab": {
          "base_uri": "https://localhost:8080/",
          "height": 53
        },
        "outputId": "7b873965-18bb-4ea5-c44d-8cf6b83521f2"
      },
      "source": [
        "# Build U-Net model\n",
        "def Unet(model_input):\n",
        "  num_woundtypes=3\n",
        "  activationFnc = 'elu'\n",
        "\n",
        "  c1 = Conv2D(16, (3, 3), activation=activationFnc, kernel_initializer='he_normal', padding='same') (model_input)\n",
        "  c1 = Dropout(0.1) (c1)\n",
        "  c1 = Conv2D(16, (3, 3), activation=activationFnc, kernel_initializer='he_normal', padding='same') (c1)\n",
        "  p1 = MaxPooling2D((2, 2)) (c1)\n",
        "\n",
        "  c2 = Conv2D(32, (3, 3), activation=activationFnc, kernel_initializer='he_normal', padding='same') (p1)\n",
        "  c2 = Dropout(0.1) (c2)\n",
        "  c2 = Conv2D(32, (3, 3), activation=activationFnc, kernel_initializer='he_normal', padding='same') (c2)\n",
        "  p2 = MaxPooling2D((2, 2)) (c2)\n",
        "\n",
        "  c3 = Conv2D(64, (3, 3), activation=activationFnc, kernel_initializer='he_normal', padding='same') (p2)\n",
        "  c3 = Dropout(0.2) (c3)\n",
        "  c3 = Conv2D(64, (3, 3), activation=activationFnc, kernel_initializer='he_normal', padding='same') (c3)\n",
        "  p3 = MaxPooling2D((2, 2)) (c3)\n",
        "\n",
        "  c4 = Conv2D(128, (3, 3), activation=activationFnc, kernel_initializer='he_normal', padding='same') (p3)\n",
        "  c4 = Dropout(0.2) (c4)\n",
        "  c4 = Conv2D(128, (3, 3), activation=activationFnc, kernel_initializer='he_normal', padding='same') (c4)\n",
        "  p4 = MaxPooling2D(pool_size=(2, 2)) (c4)\n",
        "\n",
        "  c5 = Conv2D(256, (3, 3), activation=activationFnc, kernel_initializer='he_normal', padding='same') (p4)\n",
        "  c5 = Dropout(0.3) (c5)\n",
        "  c5 = Conv2D(256, (3, 3), activation=activationFnc, kernel_initializer='he_normal', padding='same') (c5)\n",
        "\n",
        "  u6 = Conv2DTranspose(128, (2, 2), strides=(2, 2), padding='same') (c5)\n",
        "  u6 = concatenate([u6, c4])\n",
        "  c6 = Conv2D(128, (3, 3), activation=activationFnc, kernel_initializer='he_normal', padding='same') (u6)\n",
        "  c6 = Dropout(0.2) (c6)\n",
        "  c6 = Conv2D(128, (3, 3), activation=activationFnc, kernel_initializer='he_normal', padding='same') (c6)\n",
        "\n",
        "  u7 = Conv2DTranspose(64, (2, 2), strides=(2, 2), padding='same') (c6)\n",
        "  u7 = concatenate([u7, c3])\n",
        "  c7 = Conv2D(64, (3, 3), activation=activationFnc, kernel_initializer='he_normal', padding='same') (u7)\n",
        "  c7 = Dropout(0.2) (c7)\n",
        "  c7 = Conv2D(64, (3, 3), activation=activationFnc, kernel_initializer='he_normal', padding='same') (c7)\n",
        "\n",
        "  u8 = Conv2DTranspose(32, (2, 2), strides=(2, 2), padding='same') (c7)\n",
        "  u8 = concatenate([u8, c2])\n",
        "  c8 = Conv2D(32, (3, 3), activation=activationFnc, kernel_initializer='he_normal', padding='same') (u8)\n",
        "  c8 = Dropout(0.1) (c8)\n",
        "  c8 = Conv2D(32, (3, 3), activation=activationFnc, kernel_initializer='he_normal', padding='same') (c8)\n",
        "\n",
        "  u9 = Conv2DTranspose(16, (2, 2), strides=(2, 2), padding='same') (c8)\n",
        "  u9 = concatenate([u9, c1], axis=3)\n",
        "  c9 = Conv2D(16, (3, 3), activation=activationFnc, kernel_initializer='he_normal', padding='same') (u9)\n",
        "  c9 = Dropout(0.1) (c9)\n",
        "  c9 = Conv2D(16, (3, 3), activation=activationFnc, kernel_initializer='he_normal', padding='same') (c9)\n",
        "\n",
        "  so = Conv2D(1, 1, activation='sigmoid', name='so') (c9)\n",
        "  w1= Flatten(input_shape=(128,128,3))(c9)\n",
        "  co = Dense(num_woundtypes, activation='softmax', name='co')(w1)\n",
        "\n",
        "  model = Model(inputs=[model_input], outputs=[co, so], name='Unet')\n",
        "\n",
        "  return model\n",
        "'''\n",
        "model.compile(optimizer='adam'\n",
        "              , loss='categorical_crossentropy'\n",
        "              , metrics=['accuracy', tf.keras.metrics.Precision(), tf.keras.metrics.Recall()]) #metric으로 accuracy + precision&recall 사용, 논문과 비교\n",
        "\n",
        "model.summary()\n",
        "'''"
      ],
      "execution_count": null,
      "outputs": [
        {
          "output_type": "execute_result",
          "data": {
            "application/vnd.google.colaboratory.intrinsic+json": {
              "type": "string"
            },
            "text/plain": [
              "\"\\nmodel.compile(optimizer='adam'\\n              , loss='categorical_crossentropy'\\n              , metrics=['accuracy', tf.keras.metrics.Precision(), tf.keras.metrics.Recall()]) #metric으로 accuracy + precision&recall 사용, 논문과 비교\\n\\nmodel.summary()\\n\""
            ]
          },
          "metadata": {
            "tags": []
          },
          "execution_count": 155
        }
      ]
    },
    {
      "cell_type": "code",
      "metadata": {
        "id": "kOkwD201EMmp"
      },
      "source": [
        "def conv_pool_cnn(model_input):\n",
        "    \n",
        "    x = Conv2D(96, kernel_size=(3, 3), activation='relu', padding = 'same')(model_input)\n",
        "    x = Conv2D(96, (3, 3), activation='relu', padding = 'same')(x)\n",
        "    x = Conv2D(96, (3, 3), activation='relu', padding = 'same')(x)\n",
        "    x = MaxPooling2D(pool_size=(3, 3), strides = 2)(x)\n",
        "    x = Conv2D(192, (3, 3), activation='relu', padding = 'same')(x)\n",
        "    x = Conv2D(192, (3, 3), activation='relu', padding = 'same')(x)\n",
        "    x = Conv2D(192, (3, 3), activation='relu', padding = 'same')(x)\n",
        "    x = MaxPooling2D(pool_size=(3, 3), strides = 2)(x)\n",
        "    x = Conv2D(192, (3, 3), activation='relu', padding = 'same')(x)\n",
        "    x = Conv2D(192, (1, 1), activation='relu')(x)\n",
        "    x = Conv2D(3, (1, 1))(x)\n",
        "    x = GlobalAveragePooling2D()(x)\n",
        "    x = Activation(activation='softmax')(x)\n",
        "    \n",
        "    model = Model(model_input, x, name='conv_pool_cnn')\n",
        "    return model"
      ],
      "execution_count": null,
      "outputs": []
    },
    {
      "cell_type": "code",
      "metadata": {
        "id": "_Ll1yl3Jx3cg"
      },
      "source": [
        "def halfUnet(model_input):\n",
        "  num_woundtypes=3\n",
        "  activationFnc = 'elu'\n",
        "\n",
        "  c1 = Conv2D(16, (3, 3), activation=activationFnc, kernel_initializer='he_normal', padding='same') (model_input)\n",
        "  c1 = Dropout(0.1) (c1)\n",
        "  c1 = Conv2D(16, (3, 3), activation=activationFnc, kernel_initializer='he_normal', padding='same') (c1)\n",
        "  p1 = MaxPooling2D((2, 2)) (c1)\n",
        "\n",
        "  c2 = Conv2D(32, (3, 3), activation=activationFnc, kernel_initializer='he_normal', padding='same') (p1)\n",
        "  c2 = Dropout(0.1) (c2)\n",
        "  c2 = Conv2D(32, (3, 3), activation=activationFnc, kernel_initializer='he_normal', padding='same') (c2)\n",
        "  p2 = MaxPooling2D((2, 2)) (c2)\n",
        "\n",
        "  c3 = Conv2D(64, (3, 3), activation=activationFnc, kernel_initializer='he_normal', padding='same') (p2)\n",
        "  c3 = Dropout(0.2) (c3)\n",
        "  c3 = Conv2D(64, (3, 3), activation=activationFnc, kernel_initializer='he_normal', padding='same') (c3)\n",
        "  p3 = MaxPooling2D((2, 2)) (c3)\n",
        "\n",
        "  c4 = Conv2D(128, (3, 3), activation=activationFnc, kernel_initializer='he_normal', padding='same') (p3)\n",
        "  c4 = Dropout(0.2) (c4)\n",
        "  c4 = Conv2D(128, (3, 3), activation=activationFnc, kernel_initializer='he_normal', padding='same') (c4)\n",
        "  p4 = MaxPooling2D(pool_size=(2, 2)) (c4)\n",
        "\n",
        "  c5 = Conv2D(256, (3, 3), activation=activationFnc, kernel_initializer='he_normal', padding='same') (p4)\n",
        "  c5 = Dropout(0.3) (c5)\n",
        "  c5 = Conv2D(256, (3, 3), activation=activationFnc, kernel_initializer='he_normal', padding='same') (c5)\n",
        "\n",
        "  #woundtype은 c9을 Flatten\n",
        "  #w1= Flatten(input_shape=(128,128,3))(c5)\n",
        "  c5 = Conv2D(192, (3, 3), activation='relu', padding = 'same')(c5)\n",
        "  c5 = Conv2D(192, (1, 1), activation='relu')(c5)\n",
        "  c5 = Conv2D(3, (1, 1))(c5)\n",
        "  c5 = GlobalAveragePooling2D()(c5)\n",
        "  c5 = Activation(activation='softmax')(c5)\n",
        "\n",
        "  model = Model(inputs=[model_input], outputs=[c5], name='halfUnet')\n",
        "  return model"
      ],
      "execution_count": null,
      "outputs": []
    },
    {
      "cell_type": "code",
      "metadata": {
        "id": "lnKTYfyNiWZj"
      },
      "source": [
        "def thesis(model_input):\n",
        "  x = Conv2D(16, (31, 31),strides=(2,2), activation='relu')(model_input)\n",
        "  x = Dropout(0.1)(x)\n",
        "  x = Conv2D(32, (5, 5), strides=(2,2),activation='relu')(x)\n",
        "  x = Dropout(0.1)(x)\n",
        "  x = Conv2D(64, (5, 5),strides=(2,2), activation='relu')(x)\n",
        "  x = Flatten()(x)\n",
        "  x = Dense(9, activation='relu')(x)\n",
        "  x = Dense(3, activation='softmax')(x)\n",
        "\n",
        "  model = Model(inputs=[model_input], outputs=[x], name='thesis')\n",
        "\n",
        "  return model\n"
      ],
      "execution_count": null,
      "outputs": []
    },
    {
      "cell_type": "code",
      "metadata": {
        "id": "jVmWnm97nlzH"
      },
      "source": [
        "def Densenet201(model_input):\n",
        "  base_model=keras.applications.densenet.DenseNet201(include_top=False, weights='imagenet', input_tensor=model_input, input_shape=(128,128,3), pooling=None, classes=3)\n",
        "  x=base_model.output\n",
        "  x=GlobalAveragePooling2D()(x)\n",
        "  x=BatchNormalization()(x)\n",
        "  x=Dropout(0.5)(x)\n",
        "  x=Dense(1024,activation='relu')(x)\n",
        "  x=Dense(512,activation='relu')(x)\n",
        "  x=BatchNormalization()(x)\n",
        "  x=Dropout(0.5)(x)\n",
        "\n",
        "  preds=Dense(3, activation='softmax')(x)\n",
        "\n",
        "  model = Model(base_model.input, preds, name = 'Densenet201')\n",
        "  return model"
      ],
      "execution_count": null,
      "outputs": []
    },
    {
      "cell_type": "code",
      "metadata": {
        "id": "9JgoHzBytwXD"
      },
      "source": [
        " def VGG19(model_input):\n",
        "  base_model=keras.applications.vgg19.VGG19(include_top=False, weights='imagenet', input_tensor=model_input, input_shape=(128,128,3), pooling=None, classes=3)\n",
        "  x=base_model.output\n",
        "  x=GlobalAveragePooling2D()(x)\n",
        "  x=BatchNormalization()(x)\n",
        "  x=Dropout(0.5)(x)\n",
        "  x=Dense(1024,activation='relu')(x)\n",
        "  x=Dense(512,activation='relu')(x)\n",
        "  x=BatchNormalization()(x)\n",
        "  x=Dropout(0.5)(x)\n",
        "\n",
        "  preds=Dense(3, activation='softmax')(x)\n",
        "\n",
        "  model = Model(base_model.input, preds, name = 'VGG19')\n",
        "  return model"
      ],
      "execution_count": null,
      "outputs": []
    },
    {
      "cell_type": "code",
      "metadata": {
        "id": "iSgSNv0M-p58"
      },
      "source": [
        "def showfigs(history):\n",
        "  fig, ax = plt.subplots(2, 2, figsize=(10, 7))\n",
        "\n",
        "  ax[0, 0].set_title('loss')\n",
        "  ax[0, 0].plot(history.history['loss'], 'r')\n",
        "  ax[0, 1].set_title('accuracy')\n",
        "  ax[0, 1].plot(history.history['acc'], 'b')\n",
        "\n",
        "  ax[1, 0].set_title('val_loss')\n",
        "  ax[1, 0].plot(history.history['val_loss'], 'r--')\n",
        "  ax[1, 1].set_title('val_accuracy')\n",
        "  ax[1, 1].plot(history.history['val_acc'], 'b--')"
      ],
      "execution_count": null,
      "outputs": []
    },
    {
      "cell_type": "code",
      "metadata": {
        "id": "HS6Qx9Vvb1rk"
      },
      "source": [
        "def evaluate_error(model):\n",
        "    pred = model.predict(x_test, batch_size = 32)\n",
        "    pred = np.argmax(pred, axis=1)\n",
        "    pred = np.expand_dims(pred, axis=1) # make same shape as y_test\n",
        "    error = np.sum(np.not_equal(pred, y_test)) / y_test.shape[0]    \n",
        "    return error"
      ],
      "execution_count": null,
      "outputs": []
    },
    {
      "cell_type": "code",
      "metadata": {
        "id": "LIcvZZHT5nEz"
      },
      "source": [
        "def predictx(model):\n",
        "  example_conv=model.predict(x_test, batch_size=32)\n",
        "  count=0\n",
        "  for i,pred in enumerate(example_conv):\n",
        "    a=np.argmax(y_test[i]); b=np.argmax(pred)\n",
        "    print('(%s, %s)' % (a, b), end=' ')\n",
        "    if a==b:\n",
        "      count+=1\n",
        "    if i == len(example_conv):\n",
        "      print()\n",
        "      \n",
        "  print('%.2f' % (count/len(example_conv)))"
      ],
      "execution_count": null,
      "outputs": []
    },
    {
      "cell_type": "code",
      "metadata": {
        "id": "CYzqS6WSToZi"
      },
      "source": [
        "def evaluate_model(model):\n",
        "  callback_param = ReduceLROnPlateau(monitor='val_loss', factor=0.2, patience=5, verbose=1, mode='auto', min_lr=1e-05)\n",
        "  print('Combine->Granulation->Slough->Necrosis')\n",
        "  c = model.evaluate(x_test,y_test, batch_size=10, callbacks=[callback_param])\n",
        "  g = model.evaluate(x_test0, y_test0, batch_size=10, callbacks=[callback_param])\n",
        "  s = model.evaluate(x_test1, y_test1, batch_size=10, callbacks=[callback_param])\n",
        "  n = model.evaluate(x_test2, y_test2, batch_size=10, callbacks=[callback_param])\n"
      ],
      "execution_count": null,
      "outputs": []
    },
    {
      "cell_type": "code",
      "metadata": {
        "id": "LGZ0qU_rFvyT"
      },
      "source": [
        "def evaluate_model_mo(model):\n",
        "  callback_param = ReduceLROnPlateau(monitor='val_loss', factor=0.2, patience=5, verbose=1, mode='auto', min_lr=1e-05)\n",
        "  print('Combine->Granulation->Slough->Necrosis')\n",
        "  c = model.evaluate(x_test, {'co' : cy_test, 'so' : sy_test}, batch_size=10, callbacks=[callback_param])\n",
        "  g = model.evaluate(x_test0, {'co' : cy_test0, 'so' : sy_test0}, batch_size=10, callbacks=[callback_param])\n",
        "  s = model.evaluate(x_test1, {'co' : cy_test1, 'so' : sy_test1}, batch_size=10, callbacks=[callback_param])\n",
        "  n = model.evaluate(x_test2, {'co' : cy_test2, 'so' : sy_test2}, batch_size=10, callbacks=[callback_param])"
      ],
      "execution_count": null,
      "outputs": []
    },
    {
      "cell_type": "code",
      "metadata": {
        "id": "7vfdCNEu74R7"
      },
      "source": [
        "unet_model= Unet(model_input)\n",
        "unet_model.compile(loss={'co' : 'categorical_crossentropy', 'so' : 'binary_crossentropy'}, optimizer='adam', metrics=['acc']) \n",
        "filepath = '/content/drive/MyDrive/MLDL_models/weights2/' + unet_model.name + '.{epoch:02d}-{loss:.2f}.hdf5'\n",
        "checkpoint = ModelCheckpoint(filepath, monitor='loss', verbose=0, save_weights_only=True, save_best_only=True, mode='auto', save_freq=10)\n",
        "callback_param = ReduceLROnPlateau(monitor='val_loss', factor=0.5, patience=10, verbose=1, mode='auto', min_lr=1e-05)\n",
        "history = unet_model.fit(x_train\n",
        "                        , {'co' : cy_train, 'so' : sy_train}\n",
        "                        , validation_data=(x_val, {'co' : cy_val, 'so' : sy_val})\n",
        "                        , epochs=100, batch_size=100\n",
        "                        , callbacks=[callback_param, checkpoint]\n",
        "                        )"
      ],
      "execution_count": null,
      "outputs": []
    },
    {
      "cell_type": "code",
      "metadata": {
        "id": "0xSxCzo3FKPj"
      },
      "source": [
        "classpreds, segpreds = unet_model.predict(x_test, batch_size=10)"
      ],
      "execution_count": null,
      "outputs": []
    },
    {
      "cell_type": "code",
      "metadata": {
        "colab": {
          "base_uri": "https://localhost:8080/"
        },
        "id": "NIU4c4QdGbxc",
        "outputId": "b22978f2-64f8-45f9-e0fc-3854424616ce"
      },
      "source": [
        "def realMIOU(y_test, preds):\n",
        "  preds[preds>=0.5] = 1\n",
        "  preds[preds<0.5]=0\n",
        "  m=tf.keras.metrics.MeanIoU(num_classes=2)\n",
        "  m.update_state(y_test,preds)\n",
        "  print(m.result())\n",
        "\n",
        "realMIOU(sy_test, segpreds)"
      ],
      "execution_count": null,
      "outputs": [
        {
          "output_type": "stream",
          "text": [
            "tf.Tensor(0.4108198, shape=(), dtype=float32)\n"
          ],
          "name": "stdout"
        }
      ]
    },
    {
      "cell_type": "code",
      "metadata": {
        "colab": {
          "base_uri": "https://localhost:8080/"
        },
        "id": "MNwSfEAlR1GM",
        "outputId": "10e35ac6-870d-4fb9-cd35-16ed5f59cafd"
      },
      "source": [
        "evaluate_model_mo(unet_model)"
      ],
      "execution_count": null,
      "outputs": [
        {
          "output_type": "stream",
          "text": [
            "Combine->Granulation->Slough->Necrosis\n",
            "5/5 [==============================] - 0s 12ms/step - loss: 4.3814 - co_loss: 3.8518 - so_loss: 0.5296 - co_acc: 0.3404 - so_acc: 0.7556\n",
            "2/2 [==============================] - 0s 7ms/step - loss: 6.9969 - co_loss: 6.4976 - so_loss: 0.4993 - co_acc: 0.0588 - so_acc: 0.7885\n",
            "1/1 [==============================] - 0s 916us/step - loss: 4.1002 - co_loss: 3.4130 - so_loss: 0.6872 - co_acc: 0.1111 - so_acc: 0.6632\n",
            "3/3 [==============================] - 0s 8ms/step - loss: 2.3847 - co_loss: 1.8981 - so_loss: 0.4866 - co_acc: 0.6667 - so_acc: 0.7687\n"
          ],
          "name": "stdout"
        }
      ]
    },
    {
      "cell_type": "code",
      "metadata": {
        "colab": {
          "base_uri": "https://localhost:8080/"
        },
        "id": "Cw0zhrUQFpfj",
        "outputId": "1322e1bf-b256-4e4c-b4cd-7bac8fdd2e3a"
      },
      "source": [
        "evaluate_model_mo(unet_model)"
      ],
      "execution_count": null,
      "outputs": [
        {
          "output_type": "stream",
          "text": [
            "Combine->Granulation->Slough->Necrosis\n",
            "5/5 [==============================] - 0s 12ms/step - loss: 3.8057 - co_loss: 3.2947 - so_loss: 0.5110 - co_acc: 0.3404 - so_acc: 0.7586\n",
            "2/2 [==============================] - 0s 7ms/step - loss: 3.0702 - co_loss: 2.5803 - so_loss: 0.4899 - co_acc: 0.3529 - so_acc: 0.7855\n",
            "1/1 [==============================] - 0s 988us/step - loss: 2.0624 - co_loss: 1.4251 - so_loss: 0.6374 - co_acc: 0.7778 - so_acc: 0.6768\n",
            "3/3 [==============================] - 0s 10ms/step - loss: 5.1481 - co_loss: 4.6742 - so_loss: 0.4739 - co_acc: 0.1429 - so_acc: 0.7720\n"
          ],
          "name": "stdout"
        }
      ]
    },
    {
      "cell_type": "code",
      "metadata": {
        "colab": {
          "base_uri": "https://localhost:8080/"
        },
        "id": "MVa3Px9AtR0a",
        "outputId": "ec4df709-eca9-4e6d-a7f3-c9496ecb8036"
      },
      "source": [
        "unet_model=Unet(model_input)\n",
        "unet_model.compile(loss='categorical_crossentropy', optimizer='adam', metrics=['acc', precision_m, recall_m])\n",
        "unet_model.load_weights('/content/drive/MyDrive/MLDL_models/weights/Unet.43-0.22.hdf5')\n",
        "evaluate_model(unet_model)"
      ],
      "execution_count": null,
      "outputs": [
        {
          "output_type": "stream",
          "text": [
            "Combine->Granulation->Slough->Necrosis\n",
            "5/5 [==============================] - 0s 12ms/step - loss: 2.6121 - acc: 0.4255 - precision_m: 0.4063 - recall_m: 0.3886\n",
            "2/2 [==============================] - 0s 8ms/step - loss: 1.2302 - acc: 0.5882 - precision_m: 0.5159 - recall_m: 0.4714\n",
            "1/1 [==============================] - 0s 879us/step - loss: 0.8564 - acc: 0.7778 - precision_m: 0.7778 - recall_m: 0.7778\n",
            "3/3 [==============================] - 0s 6ms/step - loss: 4.4832 - acc: 0.1429 - precision_m: 0.4000 - recall_m: 0.4000\n"
          ],
          "name": "stdout"
        }
      ]
    },
    {
      "cell_type": "code",
      "metadata": {
        "colab": {
          "base_uri": "https://localhost:8080/"
        },
        "id": "l0TzEa1ZMiqV",
        "outputId": "1df1bb08-0936-4096-b133-0442b6fe5465"
      },
      "source": [
        "halfunet_model=halfUnet(model_input)\n",
        "halfunet_model.compile(loss='categorical_crossentropy', optimizer='adam', metrics=['acc', precision_m, recall_m])\n",
        "halfunet_model.load_weights('/content/drive/MyDrive/MLDL_models/weights/halfUnet.48-0.23.hdf5')\n",
        "evaluate_model(halfunet_model)"
      ],
      "execution_count": null,
      "outputs": [
        {
          "output_type": "stream",
          "text": [
            "Combine->Granulation->Slough->Necrosis\n",
            "5/5 [==============================] - 0s 6ms/step - loss: 2.7673 - acc: 0.4255 - precision_m: 0.4451 - recall_m: 0.4429\n",
            "2/2 [==============================] - 0s 4ms/step - loss: 2.2432 - acc: 0.5882 - precision_m: 0.6071 - recall_m: 0.6071\n",
            "1/1 [==============================] - 0s 821us/step - loss: 6.8016 - acc: 0.0000e+00 - precision_m: 0.0000e+00 - recall_m: 0.0000e+00\n",
            "3/3 [==============================] - 0s 4ms/step - loss: 1.4627 - acc: 0.4762 - precision_m: 0.6481 - recall_m: 0.6333\n"
          ],
          "name": "stdout"
        }
      ]
    },
    {
      "cell_type": "code",
      "metadata": {
        "colab": {
          "base_uri": "https://localhost:8080/"
        },
        "id": "7opf7Q5ERGMR",
        "outputId": "a32a40ac-e5ac-4da5-ac6f-2d94f7c184dd"
      },
      "source": [
        "conv_pool_cnn_model=conv_pool_cnn(model_input)\n",
        "conv_pool_cnn_model.compile(loss='categorical_crossentropy', optimizer='adam', metrics=['acc', precision_m, recall_m]) \n",
        "conv_pool_cnn_model.load_weights('/content/drive/MyDrive/MLDL_models/weights/conv_pool_cnn.50-0.48.hdf5')\n",
        "evaluate_model(conv_pool_cnn_model)"
      ],
      "execution_count": null,
      "outputs": [
        {
          "output_type": "stream",
          "text": [
            "Combine->Granulation->Slough->Necrosis\n",
            "5/5 [==============================] - 0s 77ms/step - loss: 2.3493 - acc: 0.3617 - precision_m: 0.3822 - recall_m: 0.3457\n",
            "2/2 [==============================] - 0s 10ms/step - loss: 2.1226 - acc: 0.4118 - precision_m: 0.4143 - recall_m: 0.4143\n",
            "1/1 [==============================] - 0s 2ms/step - loss: 1.4832 - acc: 0.2222 - precision_m: 0.2500 - recall_m: 0.2222\n",
            "3/3 [==============================] - 0s 74ms/step - loss: 2.9039 - acc: 0.3810 - precision_m: 0.5750 - recall_m: 0.5333\n"
          ],
          "name": "stdout"
        }
      ]
    },
    {
      "cell_type": "code",
      "metadata": {
        "id": "Porxkl3yr0xo"
      },
      "source": [
        "dense_model = Densenet201(model_input)\n",
        "dense_model.compile(loss='categorical_crossentropy', optimizer='adam', metrics=['acc', precision_m, recall_m]) \n",
        "dense_model.load_weights('/content/drive/MyDrive/MLDL_models/weights/functional_1.44-0.17.hdf5')\n",
        "evaluate_model(dense_model)"
      ],
      "execution_count": null,
      "outputs": []
    },
    {
      "cell_type": "code",
      "metadata": {
        "id": "RoHGXIV4xOe4"
      },
      "source": [
        "vgg_model = VGG19(model_input)\n",
        "vgg_model.compile(loss='categorical_crossentropy', optimizer='adam', metrics=['acc', precision_m, recall_m]) \n",
        "vgg_model.load_weights('/content/drive/MyDrive/MLDL_models/weights/VGG19.49-0.45.hdf5')\n",
        "evaluate_model(vgg_model)"
      ],
      "execution_count": null,
      "outputs": []
    },
    {
      "cell_type": "code",
      "metadata": {
        "id": "zHTNiT7mux3T"
      },
      "source": [
        "#@title 여기부터 앙상블 관련 코드입니다\n"
      ],
      "execution_count": null,
      "outputs": []
    },
    {
      "cell_type": "code",
      "metadata": {
        "id": "2SJS0b6XuDJj"
      },
      "source": [
        "def ensemble(models, model_input):\n",
        "    \n",
        "    outputs = [model.outputs[0] for model in models]\n",
        "    y = Average()(outputs)\n",
        "    \n",
        "    model = Model(model_input, y, name='ensemble')\n",
        "    \n",
        "    return model"
      ],
      "execution_count": null,
      "outputs": []
    },
    {
      "cell_type": "code",
      "metadata": {
        "id": "gVSX59Xnzv3B"
      },
      "source": [
        "def weighted_ensemble(models, model_input, weights):\n",
        "    \n",
        "    outputs = [model.outputs[0]*weights[i] for i,model in enumerate(models)]\n",
        "    y = Average()(outputs)\n",
        "    \n",
        "    model = Model(model_input, y, name='ensemble')\n",
        "    \n",
        "    return model"
      ],
      "execution_count": null,
      "outputs": []
    },
    {
      "cell_type": "code",
      "metadata": {
        "id": "Q5RxbmsaWdF6"
      },
      "source": [
        "#metrics\n",
        "from keras import backend as K\n",
        "\n",
        "def recall_m(y_true, y_pred):\n",
        "    true_positives = K.sum(K.round(K.clip(y_true * y_pred, 0, 1)))\n",
        "    possible_positives = K.sum(K.round(K.clip(y_true, 0, 1)))\n",
        "    recall = true_positives / (possible_positives + K.epsilon())\n",
        "    return recall\n",
        "\n",
        "def precision_m(y_true, y_pred):\n",
        "    true_positives = K.sum(K.round(K.clip(y_true * y_pred, 0, 1)))\n",
        "    predicted_positives = K.sum(K.round(K.clip(y_pred, 0, 1)))\n",
        "    precision = true_positives / (predicted_positives + K.epsilon())\n",
        "    return precision\n",
        "\n",
        "def f1_m(y_true, y_pred):\n",
        "    precision = precision_m(y_true, y_pred)\n",
        "    recall = recall_m(y_true, y_pred)\n",
        "    return 2*((precision*recall)/(precision+recall+K.epsilon()))"
      ],
      "execution_count": null,
      "outputs": []
    },
    {
      "cell_type": "code",
      "metadata": {
        "id": "EFK60s42tryZ"
      },
      "source": [
        "conv_pool_cnn_model = conv_pool_cnn(model_input)\n",
        "halfunet_model = halfUnet(model_input)\n",
        "unet_model = Unet(model_input)\n",
        "\n",
        "conv_pool_cnn_model.load_weights('/content/drive/MyDrive/MLDL_models/weights/conv_pool_cnn.99-0.23.hdf5')\n",
        "halfunet_model.load_weights('/content/drive/MyDrive/MLDL_models/weights/halfUnet.48-0.23.hdf5')\n",
        "unet_model.load_weights('/content/drive/MyDrive/MLDL_models/weights/Unet.13-0.70.hdf5')\n",
        "\n",
        "models = [unet_model, halfunet_model, conv_pool_cnn_model]\n",
        "models2 = [unet_model, halfunet_model]\n",
        "\n"
      ],
      "execution_count": null,
      "outputs": []
    },
    {
      "cell_type": "code",
      "metadata": {
        "id": "3uKsIvD5Dvpu"
      },
      "source": [
        "def ensemble(model_input):\n",
        "    \n",
        "    outputs = [unet_model.outputs[0], halfunet_model.outputs[0]]\n",
        "    y = Average()(outputs)\n",
        "    \n",
        "    model = Model(model_input, y, name='ensemble')\n",
        "    \n",
        "    return model"
      ],
      "execution_count": null,
      "outputs": []
    },
    {
      "cell_type": "code",
      "metadata": {
        "colab": {
          "base_uri": "https://localhost:8080/",
          "height": 358
        },
        "id": "voOua5CHmsip",
        "outputId": "e791a720-380e-4d62-c767-7c40718f26b4"
      },
      "source": [
        "ensemble_model = ensemble(model_input)\n",
        "ensemble_model.compile(loss='categorical_crossentropy', optimizer='adam', metrics=['acc', precision_m, recall_m]) "
      ],
      "execution_count": null,
      "outputs": [
        {
          "output_type": "error",
          "ename": "ValueError",
          "evalue": "ignored",
          "traceback": [
            "\u001b[0;31m---------------------------------------------------------------------------\u001b[0m",
            "\u001b[0;31mValueError\u001b[0m                                Traceback (most recent call last)",
            "\u001b[0;32m<ipython-input-163-0f4979a2f416>\u001b[0m in \u001b[0;36m<module>\u001b[0;34m()\u001b[0m\n\u001b[0;32m----> 1\u001b[0;31m \u001b[0mensemble_model\u001b[0m \u001b[0;34m=\u001b[0m \u001b[0mensemble\u001b[0m\u001b[0;34m(\u001b[0m\u001b[0mmodel_input\u001b[0m\u001b[0;34m)\u001b[0m\u001b[0;34m\u001b[0m\u001b[0;34m\u001b[0m\u001b[0m\n\u001b[0m\u001b[1;32m      2\u001b[0m \u001b[0mensemble_model\u001b[0m\u001b[0;34m.\u001b[0m\u001b[0mcompile\u001b[0m\u001b[0;34m(\u001b[0m\u001b[0mloss\u001b[0m\u001b[0;34m=\u001b[0m\u001b[0;34m'categorical_crossentropy'\u001b[0m\u001b[0;34m,\u001b[0m \u001b[0moptimizer\u001b[0m\u001b[0;34m=\u001b[0m\u001b[0;34m'adam'\u001b[0m\u001b[0;34m,\u001b[0m \u001b[0mmetrics\u001b[0m\u001b[0;34m=\u001b[0m\u001b[0;34m[\u001b[0m\u001b[0;34m'acc'\u001b[0m\u001b[0;34m,\u001b[0m \u001b[0mprecision_m\u001b[0m\u001b[0;34m,\u001b[0m \u001b[0mrecall_m\u001b[0m\u001b[0;34m]\u001b[0m\u001b[0;34m)\u001b[0m\u001b[0;34m\u001b[0m\u001b[0;34m\u001b[0m\u001b[0m\n",
            "\u001b[0;32m<ipython-input-162-fae480345f4b>\u001b[0m in \u001b[0;36mensemble\u001b[0;34m(model_input)\u001b[0m\n\u001b[1;32m      4\u001b[0m     \u001b[0my\u001b[0m \u001b[0;34m=\u001b[0m \u001b[0mAverage\u001b[0m\u001b[0;34m(\u001b[0m\u001b[0;34m)\u001b[0m\u001b[0;34m(\u001b[0m\u001b[0moutputs\u001b[0m\u001b[0;34m)\u001b[0m\u001b[0;34m\u001b[0m\u001b[0;34m\u001b[0m\u001b[0m\n\u001b[1;32m      5\u001b[0m \u001b[0;34m\u001b[0m\u001b[0m\n\u001b[0;32m----> 6\u001b[0;31m     \u001b[0mmodel\u001b[0m \u001b[0;34m=\u001b[0m \u001b[0mModel\u001b[0m\u001b[0;34m(\u001b[0m\u001b[0mmodel_input\u001b[0m\u001b[0;34m,\u001b[0m \u001b[0my\u001b[0m\u001b[0;34m,\u001b[0m \u001b[0mname\u001b[0m\u001b[0;34m=\u001b[0m\u001b[0;34m'ensemble'\u001b[0m\u001b[0;34m)\u001b[0m\u001b[0;34m\u001b[0m\u001b[0;34m\u001b[0m\u001b[0m\n\u001b[0m\u001b[1;32m      7\u001b[0m \u001b[0;34m\u001b[0m\u001b[0m\n\u001b[1;32m      8\u001b[0m     \u001b[0;32mreturn\u001b[0m \u001b[0mmodel\u001b[0m\u001b[0;34m\u001b[0m\u001b[0;34m\u001b[0m\u001b[0m\n",
            "\u001b[0;32m/usr/local/lib/python3.6/dist-packages/tensorflow/python/keras/engine/training.py\u001b[0m in \u001b[0;36m__new__\u001b[0;34m(cls, *args, **kwargs)\u001b[0m\n\u001b[1;32m    240\u001b[0m       \u001b[0;31m# Functional model\u001b[0m\u001b[0;34m\u001b[0m\u001b[0;34m\u001b[0m\u001b[0;34m\u001b[0m\u001b[0m\n\u001b[1;32m    241\u001b[0m       \u001b[0;32mfrom\u001b[0m \u001b[0mtensorflow\u001b[0m\u001b[0;34m.\u001b[0m\u001b[0mpython\u001b[0m\u001b[0;34m.\u001b[0m\u001b[0mkeras\u001b[0m\u001b[0;34m.\u001b[0m\u001b[0mengine\u001b[0m \u001b[0;32mimport\u001b[0m \u001b[0mfunctional\u001b[0m  \u001b[0;31m# pylint: disable=g-import-not-at-top\u001b[0m\u001b[0;34m\u001b[0m\u001b[0;34m\u001b[0m\u001b[0m\n\u001b[0;32m--> 242\u001b[0;31m       \u001b[0;32mreturn\u001b[0m \u001b[0mfunctional\u001b[0m\u001b[0;34m.\u001b[0m\u001b[0mFunctional\u001b[0m\u001b[0;34m(\u001b[0m\u001b[0;34m*\u001b[0m\u001b[0margs\u001b[0m\u001b[0;34m,\u001b[0m \u001b[0;34m**\u001b[0m\u001b[0mkwargs\u001b[0m\u001b[0;34m)\u001b[0m\u001b[0;34m\u001b[0m\u001b[0;34m\u001b[0m\u001b[0m\n\u001b[0m\u001b[1;32m    243\u001b[0m     \u001b[0;32melse\u001b[0m\u001b[0;34m:\u001b[0m\u001b[0;34m\u001b[0m\u001b[0;34m\u001b[0m\u001b[0m\n\u001b[1;32m    244\u001b[0m       \u001b[0;32mreturn\u001b[0m \u001b[0msuper\u001b[0m\u001b[0;34m(\u001b[0m\u001b[0mModel\u001b[0m\u001b[0;34m,\u001b[0m \u001b[0mcls\u001b[0m\u001b[0;34m)\u001b[0m\u001b[0;34m.\u001b[0m\u001b[0m__new__\u001b[0m\u001b[0;34m(\u001b[0m\u001b[0mcls\u001b[0m\u001b[0;34m,\u001b[0m \u001b[0;34m*\u001b[0m\u001b[0margs\u001b[0m\u001b[0;34m,\u001b[0m \u001b[0;34m**\u001b[0m\u001b[0mkwargs\u001b[0m\u001b[0;34m)\u001b[0m\u001b[0;34m\u001b[0m\u001b[0;34m\u001b[0m\u001b[0m\n",
            "\u001b[0;32m/usr/local/lib/python3.6/dist-packages/tensorflow/python/training/tracking/base.py\u001b[0m in \u001b[0;36m_method_wrapper\u001b[0;34m(self, *args, **kwargs)\u001b[0m\n\u001b[1;32m    455\u001b[0m     \u001b[0mself\u001b[0m\u001b[0;34m.\u001b[0m\u001b[0m_self_setattr_tracking\u001b[0m \u001b[0;34m=\u001b[0m \u001b[0;32mFalse\u001b[0m  \u001b[0;31m# pylint: disable=protected-access\u001b[0m\u001b[0;34m\u001b[0m\u001b[0;34m\u001b[0m\u001b[0m\n\u001b[1;32m    456\u001b[0m     \u001b[0;32mtry\u001b[0m\u001b[0;34m:\u001b[0m\u001b[0;34m\u001b[0m\u001b[0;34m\u001b[0m\u001b[0m\n\u001b[0;32m--> 457\u001b[0;31m       \u001b[0mresult\u001b[0m \u001b[0;34m=\u001b[0m \u001b[0mmethod\u001b[0m\u001b[0;34m(\u001b[0m\u001b[0mself\u001b[0m\u001b[0;34m,\u001b[0m \u001b[0;34m*\u001b[0m\u001b[0margs\u001b[0m\u001b[0;34m,\u001b[0m \u001b[0;34m**\u001b[0m\u001b[0mkwargs\u001b[0m\u001b[0;34m)\u001b[0m\u001b[0;34m\u001b[0m\u001b[0;34m\u001b[0m\u001b[0m\n\u001b[0m\u001b[1;32m    458\u001b[0m     \u001b[0;32mfinally\u001b[0m\u001b[0;34m:\u001b[0m\u001b[0;34m\u001b[0m\u001b[0;34m\u001b[0m\u001b[0m\n\u001b[1;32m    459\u001b[0m       \u001b[0mself\u001b[0m\u001b[0;34m.\u001b[0m\u001b[0m_self_setattr_tracking\u001b[0m \u001b[0;34m=\u001b[0m \u001b[0mprevious_value\u001b[0m  \u001b[0;31m# pylint: disable=protected-access\u001b[0m\u001b[0;34m\u001b[0m\u001b[0;34m\u001b[0m\u001b[0m\n",
            "\u001b[0;32m/usr/local/lib/python3.6/dist-packages/tensorflow/python/keras/engine/functional.py\u001b[0m in \u001b[0;36m__init__\u001b[0;34m(self, inputs, outputs, name, trainable)\u001b[0m\n\u001b[1;32m    113\u001b[0m     \u001b[0;31m#     'arguments during initialization. Got an unexpected argument:')\u001b[0m\u001b[0;34m\u001b[0m\u001b[0;34m\u001b[0m\u001b[0;34m\u001b[0m\u001b[0m\n\u001b[1;32m    114\u001b[0m     \u001b[0msuper\u001b[0m\u001b[0;34m(\u001b[0m\u001b[0mFunctional\u001b[0m\u001b[0;34m,\u001b[0m \u001b[0mself\u001b[0m\u001b[0;34m)\u001b[0m\u001b[0;34m.\u001b[0m\u001b[0m__init__\u001b[0m\u001b[0;34m(\u001b[0m\u001b[0mname\u001b[0m\u001b[0;34m=\u001b[0m\u001b[0mname\u001b[0m\u001b[0;34m,\u001b[0m \u001b[0mtrainable\u001b[0m\u001b[0;34m=\u001b[0m\u001b[0mtrainable\u001b[0m\u001b[0;34m)\u001b[0m\u001b[0;34m\u001b[0m\u001b[0;34m\u001b[0m\u001b[0m\n\u001b[0;32m--> 115\u001b[0;31m     \u001b[0mself\u001b[0m\u001b[0;34m.\u001b[0m\u001b[0m_init_graph_network\u001b[0m\u001b[0;34m(\u001b[0m\u001b[0minputs\u001b[0m\u001b[0;34m,\u001b[0m \u001b[0moutputs\u001b[0m\u001b[0;34m)\u001b[0m\u001b[0;34m\u001b[0m\u001b[0;34m\u001b[0m\u001b[0m\n\u001b[0m\u001b[1;32m    116\u001b[0m \u001b[0;34m\u001b[0m\u001b[0m\n\u001b[1;32m    117\u001b[0m   \u001b[0;34m@\u001b[0m\u001b[0mtrackable\u001b[0m\u001b[0;34m.\u001b[0m\u001b[0mno_automatic_dependency_tracking\u001b[0m\u001b[0;34m\u001b[0m\u001b[0;34m\u001b[0m\u001b[0m\n",
            "\u001b[0;32m/usr/local/lib/python3.6/dist-packages/tensorflow/python/training/tracking/base.py\u001b[0m in \u001b[0;36m_method_wrapper\u001b[0;34m(self, *args, **kwargs)\u001b[0m\n\u001b[1;32m    455\u001b[0m     \u001b[0mself\u001b[0m\u001b[0;34m.\u001b[0m\u001b[0m_self_setattr_tracking\u001b[0m \u001b[0;34m=\u001b[0m \u001b[0;32mFalse\u001b[0m  \u001b[0;31m# pylint: disable=protected-access\u001b[0m\u001b[0;34m\u001b[0m\u001b[0;34m\u001b[0m\u001b[0m\n\u001b[1;32m    456\u001b[0m     \u001b[0;32mtry\u001b[0m\u001b[0;34m:\u001b[0m\u001b[0;34m\u001b[0m\u001b[0;34m\u001b[0m\u001b[0m\n\u001b[0;32m--> 457\u001b[0;31m       \u001b[0mresult\u001b[0m \u001b[0;34m=\u001b[0m \u001b[0mmethod\u001b[0m\u001b[0;34m(\u001b[0m\u001b[0mself\u001b[0m\u001b[0;34m,\u001b[0m \u001b[0;34m*\u001b[0m\u001b[0margs\u001b[0m\u001b[0;34m,\u001b[0m \u001b[0;34m**\u001b[0m\u001b[0mkwargs\u001b[0m\u001b[0;34m)\u001b[0m\u001b[0;34m\u001b[0m\u001b[0;34m\u001b[0m\u001b[0m\n\u001b[0m\u001b[1;32m    458\u001b[0m     \u001b[0;32mfinally\u001b[0m\u001b[0;34m:\u001b[0m\u001b[0;34m\u001b[0m\u001b[0;34m\u001b[0m\u001b[0m\n\u001b[1;32m    459\u001b[0m       \u001b[0mself\u001b[0m\u001b[0;34m.\u001b[0m\u001b[0m_self_setattr_tracking\u001b[0m \u001b[0;34m=\u001b[0m \u001b[0mprevious_value\u001b[0m  \u001b[0;31m# pylint: disable=protected-access\u001b[0m\u001b[0;34m\u001b[0m\u001b[0;34m\u001b[0m\u001b[0m\n",
            "\u001b[0;32m/usr/local/lib/python3.6/dist-packages/tensorflow/python/keras/engine/functional.py\u001b[0m in \u001b[0;36m_init_graph_network\u001b[0;34m(self, inputs, outputs)\u001b[0m\n\u001b[1;32m    189\u001b[0m     \u001b[0;31m# Keep track of the network's nodes and layers.\u001b[0m\u001b[0;34m\u001b[0m\u001b[0;34m\u001b[0m\u001b[0;34m\u001b[0m\u001b[0m\n\u001b[1;32m    190\u001b[0m     nodes, nodes_by_depth, layers, _ = _map_graph_network(\n\u001b[0;32m--> 191\u001b[0;31m         self.inputs, self.outputs)\n\u001b[0m\u001b[1;32m    192\u001b[0m     \u001b[0mself\u001b[0m\u001b[0;34m.\u001b[0m\u001b[0m_network_nodes\u001b[0m \u001b[0;34m=\u001b[0m \u001b[0mnodes\u001b[0m\u001b[0;34m\u001b[0m\u001b[0;34m\u001b[0m\u001b[0m\n\u001b[1;32m    193\u001b[0m     \u001b[0mself\u001b[0m\u001b[0;34m.\u001b[0m\u001b[0m_nodes_by_depth\u001b[0m \u001b[0;34m=\u001b[0m \u001b[0mnodes_by_depth\u001b[0m\u001b[0;34m\u001b[0m\u001b[0;34m\u001b[0m\u001b[0m\n",
            "\u001b[0;32m/usr/local/lib/python3.6/dist-packages/tensorflow/python/keras/engine/functional.py\u001b[0m in \u001b[0;36m_map_graph_network\u001b[0;34m(inputs, outputs)\u001b[0m\n\u001b[1;32m    929\u001b[0m                              \u001b[0;34m'The following previous layers '\u001b[0m\u001b[0;34m\u001b[0m\u001b[0;34m\u001b[0m\u001b[0m\n\u001b[1;32m    930\u001b[0m                              \u001b[0;34m'were accessed without issue: '\u001b[0m \u001b[0;34m+\u001b[0m\u001b[0;34m\u001b[0m\u001b[0;34m\u001b[0m\u001b[0m\n\u001b[0;32m--> 931\u001b[0;31m                              str(layers_with_complete_input))\n\u001b[0m\u001b[1;32m    932\u001b[0m         \u001b[0;32mfor\u001b[0m \u001b[0mx\u001b[0m \u001b[0;32min\u001b[0m \u001b[0mnest\u001b[0m\u001b[0;34m.\u001b[0m\u001b[0mflatten\u001b[0m\u001b[0;34m(\u001b[0m\u001b[0mnode\u001b[0m\u001b[0;34m.\u001b[0m\u001b[0moutputs\u001b[0m\u001b[0;34m)\u001b[0m\u001b[0;34m:\u001b[0m\u001b[0;34m\u001b[0m\u001b[0;34m\u001b[0m\u001b[0m\n\u001b[1;32m    933\u001b[0m           \u001b[0mcomputable_tensors\u001b[0m\u001b[0;34m.\u001b[0m\u001b[0madd\u001b[0m\u001b[0;34m(\u001b[0m\u001b[0mid\u001b[0m\u001b[0;34m(\u001b[0m\u001b[0mx\u001b[0m\u001b[0;34m)\u001b[0m\u001b[0;34m)\u001b[0m\u001b[0;34m\u001b[0m\u001b[0;34m\u001b[0m\u001b[0m\n",
            "\u001b[0;31mValueError\u001b[0m: Graph disconnected: cannot obtain value for tensor Tensor(\"input_1:0\", shape=(None, 128, 128, 3), dtype=float32) at layer \"conv2d_289\". The following previous layers were accessed without issue: ['conv2d_700', 'dropout_292', 'conv2d_701', 'max_pooling2d_160', 'conv2d_702', 'dropout_293', 'conv2d_703', 'max_pooling2d_161', 'conv2d_704', 'dropout_294', 'conv2d_705', 'max_pooling2d_162', 'conv2d_706', 'dropout_295', 'conv2d_707', 'max_pooling2d_163', 'conv2d_708']"
          ]
        }
      ]
    },
    {
      "cell_type": "code",
      "metadata": {
        "id": "dZzyq2jD0av5"
      },
      "source": [
        "weights = [0.7,1,0.3]\n",
        "w_ensemble_model = weighted_ensemble(models, model_input, weights)\n",
        "w_ensemble_model.compile(loss='categorical_crossentropy', optimizer='adam', metrics=['acc', precision_m, recall_m]) "
      ],
      "execution_count": null,
      "outputs": []
    },
    {
      "cell_type": "code",
      "metadata": {
        "colab": {
          "base_uri": "https://localhost:8080/"
        },
        "id": "FoZlLHvT4FZO",
        "outputId": "7d3921d9-dd02-4e3c-d680-4947088ba197"
      },
      "source": [
        "#0.7,1\n",
        "evaluate_model(w_ensemble_model)"
      ],
      "execution_count": null,
      "outputs": [
        {
          "output_type": "stream",
          "text": [
            "Combine->Granulation->Slough->Necrosis\n",
            "5/5 [==============================] - 0s 15ms/step - loss: 1.3436 - acc: 0.4681 - precision_m: 0.3095 - recall_m: 0.2000\n",
            "2/2 [==============================] - 0s 9ms/step - loss: 0.8352 - acc: 0.6471 - precision_m: 0.8333 - recall_m: 0.6071\n",
            "1/1 [==============================] - 0s 955us/step - loss: 1.1307 - acc: 0.2222 - precision_m: 0.0000e+00 - recall_m: 0.0000e+00\n",
            "3/3 [==============================] - 0s 8ms/step - loss: 1.8465 - acc: 0.4286 - precision_m: 0.0000e+00 - recall_m: 0.0000e+00\n"
          ],
          "name": "stdout"
        }
      ]
    },
    {
      "cell_type": "code",
      "metadata": {
        "colab": {
          "base_uri": "https://localhost:8080/"
        },
        "id": "VSyzLL7y26Yx",
        "outputId": "468e3df4-bcb8-4573-a603-2179389e79de"
      },
      "source": [
        "evaluate_model(w_ensemble_model)"
      ],
      "execution_count": null,
      "outputs": [
        {
          "output_type": "stream",
          "text": [
            "Combine->Granulation->Slough->Necrosis\n",
            "5/5 [==============================] - 0s 31ms/step - loss: 1.3374 - acc: 0.4255 - precision_m: 0.3500 - recall_m: 0.1000\n",
            "2/2 [==============================] - 0s 15ms/step - loss: 0.9183 - acc: 0.5882 - precision_m: 0.8750 - recall_m: 0.2929\n",
            "1/1 [==============================] - 0s 1ms/step - loss: 1.1652 - acc: 0.3333 - precision_m: 0.0000e+00 - recall_m: 0.0000e+00\n",
            "3/3 [==============================] - 0s 16ms/step - loss: 1.7505 - acc: 0.3333 - precision_m: 0.0000e+00 - recall_m: 0.0000e+00\n"
          ],
          "name": "stdout"
        }
      ]
    },
    {
      "cell_type": "code",
      "metadata": {
        "colab": {
          "base_uri": "https://localhost:8080/"
        },
        "id": "XCkvKLIEuk-q",
        "outputId": "c62f5d40-61ac-4508-f7bd-2a60eb071789"
      },
      "source": [
        "evaluate_model(ensemble_model)"
      ],
      "execution_count": null,
      "outputs": [
        {
          "output_type": "stream",
          "text": [
            "Combine->Granulation->Slough->Necrosis\n",
            "5/5 [==============================] - 0s 30ms/step - loss: 1.4227 - acc: 0.3830 - precision_m: 0.3689 - recall_m: 0.3171\n",
            "2/2 [==============================] - 0s 17ms/step - loss: 0.9938 - acc: 0.5882 - precision_m: 0.5833 - recall_m: 0.5357\n",
            "1/1 [==============================] - 0s 1ms/step - loss: 1.0930 - acc: 0.4444 - precision_m: 0.3750 - recall_m: 0.3333\n",
            "3/3 [==============================] - 0s 15ms/step - loss: 1.9113 - acc: 0.1905 - precision_m: 0.4370 - recall_m: 0.4000\n"
          ],
          "name": "stdout"
        }
      ]
    },
    {
      "cell_type": "code",
      "metadata": {
        "id": "uEa87IxD4Hg2"
      },
      "source": [
        ""
      ],
      "execution_count": null,
      "outputs": []
    },
    {
      "cell_type": "code",
      "metadata": {
        "id": "5bOVcIg4vBlZ",
        "cellView": "form"
      },
      "source": [
        "#@title 이하 사용하지 않는 코드입니다"
      ],
      "execution_count": null,
      "outputs": []
    }
  ]
}